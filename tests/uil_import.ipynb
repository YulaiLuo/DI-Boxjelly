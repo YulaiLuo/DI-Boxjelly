{
 "cells": [
  {
   "cell_type": "code",
   "execution_count": null,
   "metadata": {},
   "outputs": [],
   "source": [
    "import requests\n",
    "import pandas as pd\n",
    "\n",
    "df = pd.read_excel('../data samples/Indications (AMS)_Australia_19.xlsx')\n",
    "df.head()"
   ]
  },
  {
   "cell_type": "code",
   "execution_count": null,
   "metadata": {},
   "outputs": [],
   "source": [
    "selected_df = df[['Indication', 'Tags','Groups']]\n",
    "selected_df.head()"
   ]
  },
  {
   "cell_type": "code",
   "execution_count": null,
   "metadata": {},
   "outputs": [],
   "source": [
    "df['Groups'].unique(), df['Groups'].nunique()"
   ]
  },
  {
   "cell_type": "code",
   "execution_count": null,
   "metadata": {},
   "outputs": [],
   "source": [
    "CODE_SYSTEM_ID = '645a4f69203d1d8b3fbb80b4'\n",
    "# requests create group\n",
    "group_names = df['Groups'].unique()\n",
    "group_ress = []\n",
    "for gname in group_names:\n",
    "    group_res = requests.post(\"http://localhost:8000/uil/groups\",json={\n",
    "        \"name\": gname,\n",
    "        \"code_system_id\": CODE_SYSTEM_ID\n",
    "    }).json()\n",
    "    if group_res['code']!=200:\n",
    "        print(gname)\n",
    "        print(group_res)\n",
    "        print()\n",
    "    group_ress.append(group_res)"
   ]
  },
  {
   "cell_type": "code",
   "execution_count": null,
   "metadata": {},
   "outputs": [],
   "source": [
    "for group_res in group_ress:\n",
    "    print(group_res['data']['id'],group_res['data']['name'])\n",
    "    "
   ]
  },
  {
   "cell_type": "code",
   "execution_count": null,
   "metadata": {},
   "outputs": [],
   "source": [
    "df_id = pd.DataFrame({\n",
    "    \"GroupId\": [res['data']['id'] for res in group_ress],\n",
    "    \"Groups\": [res['data']['name'] for res in group_ress]\n",
    "})\n",
    "df_id"
   ]
  },
  {
   "cell_type": "code",
   "execution_count": null,
   "metadata": {},
   "outputs": [],
   "source": [
    "groupid_merged_df = pd.merge(selected_df, df_id, left_on='Groups', right_on='Groups', how='left')\n",
    "groupid_merged_df"
   ]
  },
  {
   "cell_type": "code",
   "execution_count": null,
   "metadata": {},
   "outputs": [],
   "source": [
    "# requests create concept\n",
    "\n",
    "concept_ress = []\n",
    "for i, row in groupid_merged_df.iterrows():\n",
    "    data = {\n",
    "        'code_system_id':'645a4f69203d1d8b3fbb80b4',\n",
    "        'group_id':row['GroupId'],\n",
    "        'name':str(row['Indication']),\n",
    "        'description':str(row['Tags'])\n",
    "    }\n",
    "    print(data)\n",
    "\n",
    "    concept_res = requests.post(\"http://localhost:8000/uil/concepts\",json=data).json()\n",
    "    print(concept_res)\n",
    "    print()\n",
    "    concept_ress.append(concept_res)"
   ]
  },
  {
   "cell_type": "code",
   "execution_count": null,
   "metadata": {},
   "outputs": [],
   "source": []
  }
 ],
 "metadata": {
  "kernelspec": {
   "display_name": "di",
   "language": "python",
   "name": "python3"
  },
  "language_info": {
   "codemirror_mode": {
    "name": "ipython",
    "version": 3
   },
   "file_extension": ".py",
   "mimetype": "text/x-python",
   "name": "python",
   "nbconvert_exporter": "python",
   "pygments_lexer": "ipython3",
   "version": "3.9.16"
  },
  "orig_nbformat": 4
 },
 "nbformat": 4,
 "nbformat_minor": 2
}
