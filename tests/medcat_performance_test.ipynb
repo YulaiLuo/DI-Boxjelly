{
 "cells": [
  {
   "cell_type": "code",
   "execution_count": 2,
   "metadata": {},
   "outputs": [
    {
     "name": "stderr",
     "output_type": "stream",
     "text": [
      "/Users/feiyue/opt/anaconda3/lib/python3.8/site-packages/spacy/util.py:887: UserWarning: [W095] Model 'en_core_web_md' (3.1.0) was trained with spaCy v3.1 and may not be 100% compatible with the current version (3.5.2). If you see errors or degraded performance, download a newer compatible model or retrain your custom model with the current spaCy version. For more details and available updates, run: python -m spacy validate\n",
      "  warnings.warn(warn_msg)\n"
     ]
    }
   ],
   "source": [
    "from medcat.cat import CAT\n",
    "from medcat.cat import CAT\n",
    "from medcat.cdb import CDB\n",
    "from medcat.config import Config\n",
    "from medcat.vocab import Vocab\n",
    "from medcat.meta_cat import MetaCAT\n",
    "from medcat.preprocessing.tokenizers import TokenizerWrapperBPE\n",
    "from tokenizers import ByteLevelBPETokenizer\n",
    "import time\n",
    "\n",
    "unzip = '/Users/feiyue/Downloads/Software-Project/DI-Boxjelly/src/di-map/app/medcat_model/'\n",
    "# Load the vocab model you downloaded\n",
    "vocab = Vocab.load(unzip+'vocab.dat')\n",
    "# Load the cdb model you downloaded\n",
    "cdb = CDB.load(unzip+'cdb.dat')\n",
    "\n",
    "# needed to add these two lines\n",
    "cdb.config.linking.filters.cuis = set()\n",
    "cdb.config.general.spacy_model = unzip+'spacy_model'\n",
    "\n",
    "# Download the mc_status model from the models section below and unzip it\n",
    "mc_status = MetaCAT.load(unzip+'meta_Status/')\n",
    "cat = CAT(cdb=cdb, config=cdb.config, vocab=vocab, meta_cats=[mc_status])\n"
   ]
  },
  {
   "cell_type": "code",
   "execution_count": 3,
   "metadata": {},
   "outputs": [
    {
     "name": "stdout",
     "output_type": "stream",
     "text": [
      "Processed 100 texts in 0.76 seconds using get_entities() function.\n"
     ]
    }
   ],
   "source": [
    "# 生成测试文本\n",
    "n_texts_100 = 100\n",
    "n_texts_100000 = 100000\n",
    "\n",
    "test_texts_100 = [\"This is test text number \" + str(i) for i in range(n_texts_100)]\n",
    "test_texts_100000 = [\"This is test text number \" + str(i) for i in range(n_texts_100000)]\n",
    "\n",
    "# 测试使用 get_entities() 函数处理 100 条文本的速度\n",
    "start_time = time.time()\n",
    "for text in test_texts_100:\n",
    "    entities = cat.get_entities(text)\n",
    "end_time = time.time()\n",
    "print(\"Processed {0} texts in {1:.2f} seconds using get_entities() function.\".format(n_texts_100, end_time - start_time))\n",
    "\n",
    "# 测试使用 get_entities() 函数处理 100000 条文本的速度\n",
    "start_time = time.time()\n",
    "for text in test_texts_100000:\n",
    "    entities = cat.get_entities(text)\n",
    "end_time = time.time()\n",
    "print(\"Processed {0} texts in {1:.2f} seconds using get_entities() function.\".format(n_texts_100000, end_time - start_time))\n",
    "\n",
    "\n",
    "# Test the speed of using the multiprocessing function to process 100 texts.\n",
    "start_time = time.time()\n",
    "\n",
    "# Process the texts in parallel using MedCAT's multiprocessing function\n",
    "batch_size_chars = 500 # Set the batch size in characters\n",
    "results = cat.multiprocessing(test_texts_100, batch_size_chars=batch_size_chars, nproc=2)\n",
    "end_time = time.time()\n",
    "print(\"Processed {0} texts in {1:.2f} seconds using multiprocessing function.\".format(n_texts_100, end_time - start_time))\n",
    "\n",
    "# Test the speed of using the multiprocessing function to process 100,000 texts.\n",
    "start_time = time.time()\n",
    "\n",
    "# Process the texts in parallel using MedCAT's multiprocessing function\n",
    "batch_size_chars = 500 # Set the batch size in characters\n",
    "results = cat.multiprocessing(test_texts_100000, batch_size_chars=batch_size_chars, nproc=2)\n",
    "end_time = time.time()\n",
    "print(\"Processed {0} texts in {1:.2f} seconds using multiprocessing function.\".format(n_texts_100000, end_time - start_time))"
   ]
  },
  {
   "cell_type": "code",
   "execution_count": null,
   "metadata": {},
   "outputs": [],
   "source": [
    "# Define the list of texts to test\n",
    "n_texts_list = [10,20,30,50,80,130,210,330,540,870,1410,2280,3690,5970,9660]\n",
    "test_texts = ['This is a test sentence']*max(n_texts_list)\n",
    "# Test the speed of using the get_entities() function to process texts of varying lengths\n",
    "get_entities_times = []\n",
    "for n_texts in n_texts_list:\n",
    "    start_time = time.time()\n",
    "    for text in test_texts[:n_texts]:\n",
    "        entities = cat.get_entities(text)\n",
    "    end_time = time.time()\n",
    "    get_entities_times.append(end_time - start_time)\n"
   ]
  },
  {
   "cell_type": "code",
   "execution_count": null,
   "metadata": {},
   "outputs": [
    {
     "ename": "",
     "evalue": "",
     "output_type": "error",
     "traceback": [
      "\u001b[1;31mFailed to start the Kernel. \n",
      "\u001b[1;31mKernel Python 3.11.3 is not usable. Check the Jupyter output tab for more information. \n",
      "\u001b[1;31mView Jupyter <a href='command:jupyter.viewOutput'>log</a> for further details."
     ]
    }
   ],
   "source": [
    "print(get_entities_times)"
   ]
  },
  {
   "cell_type": "code",
   "execution_count": null,
   "metadata": {},
   "outputs": [
    {
     "ename": "",
     "evalue": "",
     "output_type": "error",
     "traceback": [
      "\u001b[1;31mFailed to start the Kernel. \n",
      "\u001b[1;31mKernel Python 3.11.3 is not usable. Check the Jupyter output tab for more information. \n",
      "\u001b[1;31mView Jupyter <a href='command:jupyter.viewOutput'>log</a> for further details."
     ]
    }
   ],
   "source": [
    "# Test the speed of using the multiprocessing function to process texts of varying lengths\n",
    "\n",
    "multiprocessing_times = []\n",
    "batch_size_chars = 500 # Set the batch size in characters\n",
    "for n_texts in n_texts_list:\n",
    "    start_time = time.time()\n",
    "    results = cat.multiprocessing(test_texts[:n_texts], batch_size_chars=batch_size_chars, nproc=2)\n",
    "    end_time = time.time()\n",
    "    multiprocessing_times.append(end_time - start_time)\n"
   ]
  },
  {
   "cell_type": "code",
   "execution_count": null,
   "metadata": {},
   "outputs": [
    {
     "ename": "",
     "evalue": "",
     "output_type": "error",
     "traceback": [
      "\u001b[1;31mFailed to start the Kernel. \n",
      "\u001b[1;31mKernel Python 3.11.3 is not usable. Check the Jupyter output tab for more information. \n",
      "\u001b[1;31mView Jupyter <a href='command:jupyter.viewOutput'>log</a> for further details."
     ]
    }
   ],
   "source": [
    "# Plot the results\n",
    "fig, ax = plt.subplots()\n",
    "ax.plot(n_texts_list, get_entities_times, label='get_entities() function')\n",
    "ax.plot(n_texts_list, multiprocessing_times, label='multiprocessing function')\n",
    "ax.set(xlabel='Number of texts', ylabel='Time (seconds)', title='MedCAT processing speed comparison')\n",
    "ax.legend()\n",
    "ax.grid()\n",
    "plt.show()"
   ]
  }
 ],
 "metadata": {
  "kernelspec": {
   "display_name": "python3.11.0",
   "language": "python",
   "name": "python3.11.0"
  },
  "language_info": {
   "codemirror_mode": {
    "name": "ipython",
    "version": 3
   },
   "file_extension": ".py",
   "mimetype": "text/x-python",
   "name": "python",
   "nbconvert_exporter": "python",
   "pygments_lexer": "ipython3",
   "version": "3.8.8"
  },
  "orig_nbformat": 4,
  "vscode": {
   "interpreter": {
    "hash": "aee8b7b246df8f9039afb4144a1f6fd8d2ca17a180786b69acc140d282b71a49"
   }
  }
 },
 "nbformat": 4,
 "nbformat_minor": 2
}
