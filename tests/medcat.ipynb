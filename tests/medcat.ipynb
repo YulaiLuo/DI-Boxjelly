{
 "cells": [
  {
   "cell_type": "code",
   "execution_count": null,
   "metadata": {},
   "outputs": [
    {
     "ename": "",
     "evalue": "",
     "output_type": "error",
     "traceback": [
      "\u001b[1;31mFailed to start the Kernel. \n",
      "\u001b[1;31mTraceback (most recent call last):\n",
      "\u001b[1;31m  File \"/Users/sunkunxi/miniforge3/envs/di/lib/python3.9/runpy.py\", line 197, in _run_module_as_main\n",
      "\u001b[1;31m    return _run_code(code, main_globals, None,\n",
      "\u001b[1;31m  File \"/Users/sunkunxi/miniforge3/envs/di/lib/python3.9/runpy.py\", line 87, in _run_code\n",
      "\u001b[1;31m    exec(code, run_globals)\n",
      "\u001b[1;31m  File \"/Users/sunkunxi/miniforge3/envs/di/lib/python3.9/site-packages/ipykernel_launcher.py\", line 15, in <module>\n",
      "\u001b[1;31m    from ipykernel import kernelapp as app\n",
      "\u001b[1;31m  File \"/Users/sunkunxi/miniforge3/envs/di/lib/python3.9/site-packages/ipykernel/kernelapp.py\", line 18, in <module>\n",
      "\u001b[1;31m    from IPython.core.application import (\n",
      "\u001b[1;31m  File \"/Users/sunkunxi/miniforge3/envs/di/lib/python3.9/site-packages/IPython/__init__.py\", line 53, in <module>\n",
      "\u001b[1;31m    from .terminal.embed import embed\n",
      "\u001b[1;31m  File \"/Users/sunkunxi/miniforge3/envs/di/lib/python3.9/site-packages/IPython/terminal/embed.py\", line 15, in <module>\n",
      "\u001b[1;31m    from IPython.core.interactiveshell import DummyMod, InteractiveShell\n",
      "\u001b[1;31m  File \"/Users/sunkunxi/miniforge3/envs/di/lib/python3.9/site-packages/IPython/core/interactiveshell.py\", line 73, in <module>\n",
      "\u001b[1;31m    from IPython.core.history import HistoryManager\n",
      "\u001b[1;31m  File \"/Users/sunkunxi/miniforge3/envs/di/lib/python3.9/site-packages/IPython/core/history.py\", line 11, in <module>\n",
      "\u001b[1;31m    import sqlite3\n",
      "\u001b[1;31m  File \"/Users/sunkunxi/miniforge3/envs/di/lib/python3.9/sqlite3/__init__.py\", line 57, in <module>\n",
      "\u001b[1;31m    from sqlite3.dbapi2 import *\n",
      "\u001b[1;31m  File \"/Users/sunkunxi/miniforge3/envs/di/lib/python3.9/sqlite3/dbapi2.py\", line 27, in <module>\n",
      "\u001b[1;31m    from _sqlite3 import *\n",
      "\u001b[1;31mImportError: dlopen(/Users/sunkunxi/miniforge3/envs/di/lib/python3.9/lib-dynload/_sqlite3.cpython-39-darwin.so, 0x0002): Symbol not found: _sqlite3_enable_load_extension\n",
      "\u001b[1;31m  Referenced from: <0F1688DA-025E-3485-BD49-F587E9ECE515> /Users/sunkunxi/miniforge3/envs/di/lib/python3.9/lib-dynload/_sqlite3.cpython-39-darwin.so\n",
      "\u001b[1;31m  Expected in:     <3870AC8E-1780-3CA6-A2A7-8B978A52921A> /usr/lib/libsqlite3.dylib. \n",
      "\u001b[1;31mView Jupyter <a href='command:jupyter.viewOutput'>log</a> for further details."
     ]
    }
   ],
   "source": [
    "from medcat.cat import CAT\n",
    "\n",
    "# Download the model_pack from the models section in the github repo.\n",
    "cat = CAT.load_model_pack('./model/mc_modelpack_snomed_int_16_mar_2022_25be3857ba34bdd5.zip')\n",
    "\n",
    "text = \"My simple document with kidney failure\"\n",
    "entities = cat.get_entities(text)\n",
    "print(entities)"
   ]
  },
  {
   "cell_type": "code",
   "execution_count": null,
   "metadata": {},
   "outputs": [],
   "source": []
  }
 ],
 "metadata": {
  "kernelspec": {
   "display_name": "di",
   "language": "python",
   "name": "python3"
  },
  "language_info": {
   "name": "python",
   "version": "3.9.16"
  },
  "orig_nbformat": 4
 },
 "nbformat": 4,
 "nbformat_minor": 2
}
